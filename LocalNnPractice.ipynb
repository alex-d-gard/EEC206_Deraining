{
  "nbformat": 4,
  "nbformat_minor": 0,
  "metadata": {
    "colab": {
      "name": "LocalNnPractice.ipynb",
      "provenance": [],
      "collapsed_sections": [],
      "authorship_tag": "ABX9TyOGtvM6G+6ChepERXXpMTQ7",
      "include_colab_link": true
    },
    "kernelspec": {
      "name": "python3",
      "display_name": "Python 3"
    },
    "language_info": {
      "name": "python"
    }
  },
  "cells": [
    {
      "cell_type": "markdown",
      "metadata": {
        "id": "view-in-github",
        "colab_type": "text"
      },
      "source": [
        "<a href=\"https://colab.research.google.com/github/alex-d-gard/EEC206_Deraining/blob/main/LocalNnPractice.ipynb\" target=\"_parent\"><img src=\"https://colab.research.google.com/assets/colab-badge.svg\" alt=\"Open In Colab\"/></a>"
      ]
    },
    {
      "cell_type": "code",
      "execution_count": 10,
      "metadata": {
        "id": "74xw8bJRfiYO"
      },
      "outputs": [],
      "source": [
        "#########################################################################\n",
        "### Import Libraries\n",
        "import torch\n",
        "import torch.nn as nn\n",
        "import torch.nn.functional as F\n",
        "import torch.optim as optim\n",
        "\n",
        "#########################################################################\n",
        "### Define the Network\n",
        "\n",
        "class Net(nn.Module):\n",
        "\n",
        "    def __init__(self):\n",
        "        super(Net, self).__init__()\n",
        "        # 1 input image channel, 6 output channels, 5x5 square convolution\n",
        "        # kernel\n",
        "        self.conv1 = nn.Conv2d(1, 6, 5)\n",
        "        self.conv2 = nn.Conv2d(6, 16, 5)\n",
        "        # an affine operation: y = Wx + b\n",
        "        self.fc1 = nn.Linear(16 * 5 * 5, 120)  # 5*5 from image dimension\n",
        "        self.fc2 = nn.Linear(120, 84)\n",
        "        self.fc3 = nn.Linear(84, 10)\n",
        "\n",
        "    def forward(self, x):\n",
        "        # Max pooling over a (2, 2) window\n",
        "        x = F.max_pool2d(F.relu(self.conv1(x)), (2, 2))\n",
        "        # If the size is a square, you can specify with a single number\n",
        "        x = F.max_pool2d(F.relu(self.conv2(x)), 2)\n",
        "        x = torch.flatten(x, 1) # flatten all dimensions except the batch dimension\n",
        "        x = F.relu(self.fc1(x))\n",
        "        x = F.relu(self.fc2(x))\n",
        "        x = self.fc3(x)\n",
        "        return x\n",
        "\n",
        "#########################################################################\n",
        "### Initialize instance of Network and Optimizer\n",
        "\n",
        "net = Net() #Initialize \n",
        "#print(net)\n",
        "\n",
        "optimizer = optim.SGD(net.parameters(), lr=0.01) #create optimizer\n",
        "\n",
        "# List amount of parameters (optional)\n",
        "params = list(net.parameters())\n",
        "#print(len(params))\n",
        "#print(params[0].size())  # conv1's .weight\n",
        "\n",
        "\n"
      ]
    },
    {
      "cell_type": "code",
      "source": [
        "#########################################################################\n",
        "### Obtain Training Data\n",
        "\n",
        "input = torch.randn(1, 1, 32, 32) # 1 image, 1 channel, 32x32 size\n",
        "#print(input)\n",
        "\n",
        "target = torch.randn(10)  # a dummy target, for example\n",
        "target = target.view(1, -1)  # make it the same shape as output\n",
        "\n",
        "\n",
        "#TrainingSetStructure = TrainingImages\n"
      ],
      "metadata": {
        "id": "0-JnKn_OgDUl"
      },
      "execution_count": 11,
      "outputs": []
    },
    {
      "cell_type": "code",
      "source": [
        "#########################################################################\n",
        "### Network Training with Training Data\n",
        "\n",
        "#for epoch in range(2):\n",
        "#  for i, data in enumerate(TrainingSetStructure):  # iterate through training set, i = index, data = single training image\n",
        "#        input, GroundTruth = data\n",
        "\n",
        "out = net(input) #forward pass input through network\n",
        "#print(out) #View output with existing network (see how derained it is)\n",
        "\n",
        "criterion = nn.MSELoss() #Select loss function\n",
        "loss = criterion(out, target) #Compute Loss\n",
        "optimizer.zero_grad()   # zero the gradient buffers because they don't overwrite, they accumulate (don't want to add gradients ontop of old gradients)  \n",
        "loss.backward()  #Back Propagate to compute gradients\n",
        "optimizer.step()    #Implement Update\n",
        "\n",
        "#end training set for loop\n",
        "#end epoch for loop"
      ],
      "metadata": {
        "colab": {
          "base_uri": "https://localhost:8080/"
        },
        "id": "2tZZujJ9gUmU",
        "outputId": "45296192-6626-494c-992c-2bf4158138d3"
      },
      "execution_count": 12,
      "outputs": [
        {
          "output_type": "stream",
          "name": "stdout",
          "text": [
            "tensor([[-0.0695, -0.0390, -0.0174, -0.1305, -0.0101,  0.1099, -0.0128, -0.0572,\n",
            "         -0.1128, -0.0870]], grad_fn=<AddmmBackward0>)\n"
          ]
        }
      ]
    },
    {
      "cell_type": "code",
      "source": [
        "#########################################################################\n",
        "### Run Test Images through Trained Network\n",
        "\n",
        "#Obtain Test Images\n",
        "#TestSetStructure = testdata?\n",
        "\n",
        "# for i, data in enumerate(TestSetStructure):  # iterate through training set, i = index, data = single testing image\n",
        "\n",
        "#net(input) #run input through trained network\n",
        "#print resulting image\n",
        "\n",
        "#end for loop"
      ],
      "metadata": {
        "id": "iO4FzwqEyNHs"
      },
      "execution_count": null,
      "outputs": []
    }
  ]
}